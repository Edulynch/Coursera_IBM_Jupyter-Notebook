{
 "cells": [
  {
   "cell_type": "markdown",
   "id": "3d3d1f6d",
   "metadata": {},
   "source": [
    "# Data Science Tools and Ecosystem"
   ]
  },
  {
   "cell_type": "markdown",
   "id": "cff05686",
   "metadata": {},
   "source": [
    "##### In this project we are going to see the different functions of markdown and arithmetica, as well as github and finally we will upload our file to a repository."
   ]
  },
  {
   "cell_type": "markdown",
   "id": "dc199d7e",
   "metadata": {},
   "source": [
    "##### Objectives:"
   ]
  },
  {
   "cell_type": "markdown",
   "id": "f5afd855",
   "metadata": {},
   "source": [
    "* List popular languages for Data Science\n",
    "* List commonly used libraries used by Data Scientists\n",
    "* Arithmetic expression"
   ]
  },
  {
   "cell_type": "markdown",
   "id": "1ad85adf",
   "metadata": {},
   "source": [
    "##### Some of the popular languages that Data Scientists use are:"
   ]
  },
  {
   "cell_type": "markdown",
   "id": "1a1ca506",
   "metadata": {},
   "source": [
    "1. Python\n",
    "2. R\n",
    "3. Julia\n",
    "4. SQL"
   ]
  },
  {
   "cell_type": "markdown",
   "id": "a7fa8459",
   "metadata": {},
   "source": [
    "##### Some of the commonly used libraries used by Data Scientists include:"
   ]
  },
  {
   "cell_type": "markdown",
   "id": "87e1974e",
   "metadata": {},
   "source": [
    "1. ggplot2 (R)\n",
    "2. Matplotlib (Python)\n",
    "3. Pandas (Python)\n",
    "4. Numpy (Python)"
   ]
  },
  {
   "cell_type": "markdown",
   "id": "de3a473c",
   "metadata": {},
   "source": [
    "| Data Science Tools |\n",
    "| :---: |\n",
    "| RStudio |\n",
    "| Apache Spark |\n",
    "| TensorFlow |"
   ]
  },
  {
   "cell_type": "markdown",
   "id": "f742d909",
   "metadata": {},
   "source": [
    "##### Below are a few examples of evaluating arithmetic expressions in Python."
   ]
  },
  {
   "cell_type": "code",
   "execution_count": 8,
   "id": "a7f48a44",
   "metadata": {},
   "outputs": [
    {
     "data": {
      "text/plain": [
       "50"
      ]
     },
     "execution_count": 8,
     "metadata": {},
     "output_type": "execute_result"
    }
   ],
   "source": [
    "5 * 10"
   ]
  },
  {
   "cell_type": "code",
   "execution_count": 9,
   "id": "e03dbdfb",
   "metadata": {},
   "outputs": [
    {
     "data": {
      "text/plain": [
       "6"
      ]
     },
     "execution_count": 9,
     "metadata": {},
     "output_type": "execute_result"
    }
   ],
   "source": [
    "8-2"
   ]
  },
  {
   "cell_type": "code",
   "execution_count": 10,
   "id": "dff38b42",
   "metadata": {},
   "outputs": [
    {
     "data": {
      "text/plain": [
       "1.0"
      ]
     },
     "execution_count": 10,
     "metadata": {},
     "output_type": "execute_result"
    }
   ],
   "source": [
    "4 /4"
   ]
  },
  {
   "cell_type": "code",
   "execution_count": 11,
   "id": "2e3342b0",
   "metadata": {},
   "outputs": [
    {
     "data": {
      "text/plain": [
       "7"
      ]
     },
     "execution_count": 11,
     "metadata": {},
     "output_type": "execute_result"
    }
   ],
   "source": [
    "5 + 2"
   ]
  },
  {
   "cell_type": "code",
   "execution_count": 12,
   "id": "6685745e",
   "metadata": {},
   "outputs": [],
   "source": [
    "# This a simple arithmetic expression to mutiply then add integers"
   ]
  },
  {
   "cell_type": "code",
   "execution_count": 13,
   "id": "42c0757c",
   "metadata": {},
   "outputs": [
    {
     "data": {
      "text/plain": [
       "17"
      ]
     },
     "execution_count": 13,
     "metadata": {},
     "output_type": "execute_result"
    }
   ],
   "source": [
    "(3*4)+5"
   ]
  },
  {
   "cell_type": "code",
   "execution_count": 14,
   "id": "6da39d3f",
   "metadata": {},
   "outputs": [],
   "source": [
    "# This will convert 200 minutes to hours by diving by 60"
   ]
  },
  {
   "cell_type": "code",
   "execution_count": 15,
   "id": "51560938",
   "metadata": {},
   "outputs": [
    {
     "data": {
      "text/plain": [
       "3.3333333333333335"
      ]
     },
     "execution_count": 15,
     "metadata": {},
     "output_type": "execute_result"
    }
   ],
   "source": [
    "200/60"
   ]
  },
  {
   "cell_type": "markdown",
   "id": "e2ea109b",
   "metadata": {},
   "source": [
    "## Author"
   ]
  },
  {
   "cell_type": "markdown",
   "id": "d426aab0",
   "metadata": {},
   "source": [
    "Eduardo Mauricio Lynch Araya"
   ]
  }
 ],
 "metadata": {
  "kernelspec": {
   "display_name": "Python 3 (ipykernel)",
   "language": "python",
   "name": "python3"
  },
  "language_info": {
   "codemirror_mode": {
    "name": "ipython",
    "version": 3
   },
   "file_extension": ".py",
   "mimetype": "text/x-python",
   "name": "python",
   "nbconvert_exporter": "python",
   "pygments_lexer": "ipython3",
   "version": "3.11.3"
  }
 },
 "nbformat": 4,
 "nbformat_minor": 5
}
